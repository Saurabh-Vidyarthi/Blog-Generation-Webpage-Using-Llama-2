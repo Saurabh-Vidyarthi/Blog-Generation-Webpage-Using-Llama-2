{
  "cells": [
    {
      "cell_type": "markdown",
      "metadata": {
        "id": "view-in-github",
        "colab_type": "text"
      },
      "source": [
        "<a href=\"https://colab.research.google.com/github/Saurabh-Vidyarthi/Blog-Generation-Webpage-Using-Llama-2/blob/main/Assignment_2_for_DS_207_(Intro_to_NLP)_Language_Modelling.ipynb\" target=\"_parent\"><img src=\"https://colab.research.google.com/assets/colab-badge.svg\" alt=\"Open In Colab\"/></a>"
      ]
    },
    {
      "cell_type": "markdown",
      "metadata": {
        "id": "IbVBhrOx4WzV"
      },
      "source": [
        "# Assignment 2: Language Modelling (TA: Navreet Kaur)\n",
        "\n",
        "The goal of this assignment is to model Indian first names using character-level language models.\n",
        "\n",
        "You'll have to add your code wherever you see the comment `# ADD YOUR CODE HERE`. Please make a copy of this assignment, and you can use Google Colab notebooks to work on this. Later, you can download this notebook as a python file and submit it as per the following instructions.\n",
        "\n",
        "**Important Note**: Whenever you add your code, please enclose your code block within two comments `# BEGIN CODE` and `# END CODE` to indicate the start and end of your code.\n",
        "Example:\n",
        "\n",
        "```\n",
        "def model():\n",
        "\n",
        "    data = get_dataloader() # this is defined by us\n",
        "\n",
        "    # ADD YOUR CODE HERE\n",
        "\n",
        "    # BEGIN CODE\n",
        "\n",
        "    run_training() # this is written by you\n",
        "\n",
        "    generate_names() # this is written by you\n",
        "\n",
        "    # END CODE\n",
        "\n",
        "```"
      ]
    },
    {
      "cell_type": "markdown",
      "metadata": {
        "id": "IihIo1ydclhU"
      },
      "source": [
        "## Submission Instructions"
      ]
    },
    {
      "cell_type": "markdown",
      "metadata": {
        "id": "oLuSZmAidZKA"
      },
      "source": [
        "Note that your assignment will be based on the results obtained by functions implemented by you. Do not change the print statements having `EVALUATION` as they are used for auto-evaluation.\n",
        "\n",
        "You'd need to submit the following files:\n",
        "\n",
        "  * Save this `.ipynb` to your drive, complete the required code blocks and run the notebook.\n",
        "\n",
        "  * After completing this assignment, download the notebook as`.py`. Name it as `SAPname_SRno_assignment2.py`, where `SAPname` refers to your name as per SAP record, and `SRno` refers to the last 5 digits of your IISc SR number. For example, IISc student with SAP name Twyla Linda (SR no - 04-03-00-10-22-20-1-15329) would name it as `Twyla_Linda_15329_assignment2.py`.\n",
        "\n",
        "  *   The files associated with FNN and RNN models i.e. `model.pt`, `vocab.pt` and `loss.json` will be downloaded and saved in folders with names `fnn` and `rnn` respectively, and these will be contained within folder `SAPname_SRno`. Zip this folder along with the `.py` file, save it as `SAPname_SRno_assigment2` and upload on MS Teams. The directory can be summarised as follows:\n",
        "\n",
        "```\n",
        "SAPname_SRno_assigment2\n",
        "│   SAPname_SRno_assignment2.py  \n",
        "│\n",
        "└───SAPname_SRno\n",
        "│   │\n",
        "│   └───fnn\n",
        "│   │   │   model.pt\n",
        "│   │   │   vocab.pt\n",
        "│   │   │   loss.json\n",
        "│   │\n",
        "│   └───rnn\n",
        "│       │   model.pt\n",
        "│       │   vocab.pt\n",
        "│       │   loss.json\n",
        "\n",
        "```\n",
        "\n",
        "Because submissions are auto-graded, please ensure that the naming of the files is consistent with the instructions."
      ]
    },
    {
      "cell_type": "markdown",
      "source": [
        "## Broad Outline\n",
        "\n",
        "In this assignment, we will implement different types of language models for modeling Indian names. There are clealry patterns in Indian names that models could learn, and we start modeling those using n-gram models, then move to neural n-gram and RNN models.\n",
        "\n",
        "\n",
        "**Marks Distribution:**\n",
        "- Unigram: 5\n",
        "- Bigram: 15\n",
        "- Trigram: 10\n",
        "- Neural N-gram LM: 30\n",
        "- RNN LM: 40\n",
        "\n"
      ],
      "metadata": {
        "id": "R7PCPFrNAleF"
      }
    },
    {
      "cell_type": "markdown",
      "source": [
        "# Read and Preprocess Data"
      ],
      "metadata": {
        "id": "aRfBYfGr_Brg"
      }
    },
    {
      "cell_type": "code",
      "source": [
        "# importing necessary libraries\n",
        "import pandas as pd\n",
        "import numpy as np\n",
        "import math\n",
        "\n",
        "import random\n",
        "from collections import Counter, defaultdict\n",
        "\n",
        "from torchtext.vocab import build_vocab_from_iterator\n",
        "from torch.utils.data import DataLoader"
      ],
      "metadata": {
        "id": "EwZ5kF6r_ER2"
      },
      "execution_count": null,
      "outputs": []
    },
    {
      "cell_type": "markdown",
      "source": [
        "Please note that we may change the contents of the following four files when we rerun your code, so please make sure that your solution is not specifically engineered to just these names."
      ],
      "metadata": {
        "id": "IuKwSZRvktVK"
      }
    },
    {
      "cell_type": "code",
      "source": [
        "# Download the training and validation datasets\n",
        "!wget -O train_data.csv \"https://docs.google.com/spreadsheets/d/1AUzwOQQbAehg_eoAMCcWfwSGhKwSAtnIzapt2wbv0Zs/gviz/tq?tqx=out:csv&sheet=train_data.csv\"\n",
        "!wget -O valid_data.csv \"https://docs.google.com/spreadsheets/d/1UtQErvMS-vcQEwjZIjLFnDXlRZPxgO1CU3PF-JYQKvA/gviz/tq?tqx=out:csv&sheet=valid_data.csv\"\n",
        "\n",
        "# Download the text for evaluation\n",
        "!wget -O eval_prefixes.txt \"https://drive.google.com/uc?export=download&id=1tuRLJXLd2VcDaWENr8JTZMcjFlwyRo60\"\n",
        "!wget -O eval_sequences.txt \"https://drive.google.com/uc?export=download&id=1kjPAR04UTKmdtV-FJ9SmDlotkt-IKM3b\""
      ],
      "metadata": {
        "id": "NZlaqugU_EPv"
      },
      "execution_count": null,
      "outputs": []
    },
    {
      "cell_type": "code",
      "source": [
        "## Please do not change anything in this code block.\n",
        "\n",
        "def read_dataframe(ds_type):\n",
        "    \"\"\"\n",
        "    Args:\n",
        "        ds_type [str] :  dataset type (train or valid)\n",
        "\n",
        "    Returns:\n",
        "        df [pandas dataframe]\n",
        "    \"\"\"\n",
        "\n",
        "    df = pd.read_csv(f\"/content/{ds_type}_data.csv\", header=0, index_col=0)\n",
        "    df = df[~df['Name'].isna()]\n",
        "    df['Name'] = df['Name'].astype(str)\n",
        "    return df\n",
        "\n",
        "# Load the training and validation datasets\n",
        "train_data = read_dataframe(\"train\")\n",
        "validation_data = read_dataframe(\"valid\")\n",
        "\n",
        "# Read files containing prefixes and character sequences for evaluation\n",
        "with open('eval_prefixes.txt', 'r') as file:\n",
        "    eval_prefixes = []\n",
        "    for line in file:\n",
        "        eval_prefixes.append(line.strip().split(\" \"))\n",
        "\n",
        "with open('eval_sequences.txt', 'r') as file:\n",
        "    eval_sequences = []\n",
        "    for line in file:\n",
        "        eval_sequences.append(line.strip().split(\" \"))\n",
        "\n",
        "print(f\"Length of training data: {len(train_data)}\\nLength of validation data: {len(validation_data)}\")"
      ],
      "metadata": {
        "id": "Xv2bBmxbGlR2"
      },
      "execution_count": null,
      "outputs": []
    },
    {
      "cell_type": "code",
      "source": [
        "## Please do not change anything in this code block.\n",
        "\n",
        "START = \"<s>\"   # Start-of-name token\n",
        "END = \"</s>\"    # End-of-name token\n",
        "UNK = \"<unk>\"   # token representing out of unknown (or out of vocabulary) tokens\n",
        "vocab_from_ascii = True\n",
        "\n",
        "def build_vocab(names):\n",
        "    \"\"\"\n",
        "    Builds a vocabulary given a list of names\n",
        "\n",
        "    Args:\n",
        "        names [list[str]]: list of names\n",
        "\n",
        "    Returns:\n",
        "        vocab [torchtext.vocab]: vocabulary based on the names\n",
        "\n",
        "    \"\"\"\n",
        "\n",
        "    if vocab_from_ascii:\n",
        "        char_counts = {chr(i):i for i in range(128)}\n",
        "    else:\n",
        "        char_counts = Counter(\"\".join(names))\n",
        "\n",
        "    vocab = build_vocab_from_iterator(\n",
        "                    char_counts,\n",
        "                    specials=[UNK, START, END], #adding special tokens to the vocabulary\n",
        "                    min_freq=1\n",
        "                )\n",
        "    vocab.set_default_index(vocab[UNK])\n",
        "    return vocab\n",
        "\n",
        "\n",
        "def tokenize_name(name):\n",
        "    \"\"\"\n",
        "    Tokenise the name i.e. break a name into list of characters\n",
        "\n",
        "    Args:\n",
        "        name [str]: name to be tokenized\n",
        "\n",
        "    Returns:\n",
        "        list of characters\n",
        "    \"\"\"\n",
        "\n",
        "    return list(str(name))\n",
        "\n",
        "\n",
        "def process_data_for_input(data_iter, vocab):\n",
        "    \"\"\"\n",
        "    Processes data for input: Breaks names into characters,\n",
        "    converts out of vocabulary tokens to UNK and\n",
        "    appends END token at the end of every name\n",
        "\n",
        "    Args:\n",
        "        data_iter: data iterator consisting of names\n",
        "        vocab: vocabulary\n",
        "\n",
        "    Returns:\n",
        "        data_iter [list[list[str]]]: list of names, where each name is a\n",
        "                                list of characters and is appended with\n",
        "                                START and END tokens\n",
        "\n",
        "    \"\"\"\n",
        "\n",
        "    vocab_set = set(vocab.get_itos())\n",
        "    # convert Out Of Vocabulary (OOV) tokens to UNK tokens\n",
        "    data_iter = [[char if char in vocab_set else UNK\n",
        "                        for char in tokenize_name(name)] for name in data_iter]\n",
        "    data_iter = [[START] + name + [END] for name in data_iter]\n",
        "\n",
        "    return data_iter\n",
        "\n",
        "\n",
        "def get_tokenised_text_and_vocab(ds_type, vocab=None):\n",
        "    \"\"\"\n",
        "    Reads input data, tokenizes it, builds vocabulary (if unspecified)\n",
        "    and outputs tokenised list of names (which in turn is a list of characters)\n",
        "\n",
        "    Args:\n",
        "        ds_type [str]: Type of the dataset (e.g., train, validation, test)\n",
        "        vocab [torchtext.vocab]: vocabulary;\n",
        "                                 If vocab is None, the function will\n",
        "                                 build the vocabulary from input text.\n",
        "                                 If vocab is provided, it will tokenize name\n",
        "                                 according to the vocab, replacing any tokens\n",
        "                                 not part of the vocab with UNK token.\n",
        "\n",
        "    Returns:\n",
        "        data_iter: data iterator for tokenized names\n",
        "        vocab: vocabulary\n",
        "\n",
        "    \"\"\"\n",
        "\n",
        "    # read the 'Name' column of the dataframe\n",
        "    if ds_type=='train':\n",
        "        data_iter = train_data['Name']\n",
        "    elif ds_type=='valid':\n",
        "        data_iter = validation_data['Name']\n",
        "    else:\n",
        "        data_iter = test_data['Name']\n",
        "\n",
        "    # build vocab from input data, if vocab is unspecified\n",
        "    if vocab is None:\n",
        "        vocab = build_vocab(data_iter)\n",
        "\n",
        "    # convert OOV chars to UNK, append START and END token to each name\n",
        "    data_iter = process_data_for_input(data_iter, vocab)\n",
        "\n",
        "    return data_iter, vocab"
      ],
      "metadata": {
        "id": "bjAkd4OKHQDr"
      },
      "execution_count": null,
      "outputs": []
    },
    {
      "cell_type": "markdown",
      "source": [
        "Let's look at some examples from the training set"
      ],
      "metadata": {
        "id": "-ZOCgikIKQMT"
      }
    },
    {
      "cell_type": "code",
      "source": [
        "# Look at some random examples from the training set\n",
        "examples = \", \".join(random.sample(list(train_data['Name']), 5))\n",
        "f\"Examples from the training set: {examples}\""
      ],
      "metadata": {
        "colab": {
          "base_uri": "https://localhost:8080/",
          "height": 35
        },
        "id": "zs1WLnSwKL7o",
        "outputId": "2ddbdb85-50c7-492b-c452-c0012cec3e67"
      },
      "execution_count": null,
      "outputs": [
        {
          "output_type": "execute_result",
          "data": {
            "text/plain": [
              "'Examples from the training set: sheru, gurpreet, pitika, sanaali, sumoranjam'"
            ],
            "application/vnd.google.colaboratory.intrinsic+json": {
              "type": "string"
            }
          },
          "metadata": {},
          "execution_count": 5
        }
      ]
    },
    {
      "cell_type": "markdown",
      "metadata": {
        "id": "ao45NGBZoGt6"
      },
      "source": [
        "# Module 1: N-gram Language Modelling"
      ]
    },
    {
      "cell_type": "markdown",
      "source": [
        "Load and preprocess the data for n-gram models"
      ],
      "metadata": {
        "id": "0Y1aGXxaSKK7"
      }
    },
    {
      "cell_type": "code",
      "execution_count": null,
      "metadata": {
        "id": "Ja95kukk5Tjb"
      },
      "outputs": [],
      "source": [
        "\"\"\"choose your hyperparameter and see the difference in performance\"\"\"\n",
        "\n",
        "# CHANGE THE None VALUES TO YOUR DESIRED VALUES\n",
        "\n",
        "# ADD YOUR CODE HERE\n",
        "\n",
        "MAX_NAME_LENGTH = None # maximum length of names for generation"
      ]
    },
    {
      "cell_type": "code",
      "execution_count": null,
      "metadata": {
        "id": "4YUgIT0uH9Jp"
      },
      "outputs": [],
      "source": [
        "# Get data iterator and build vocabulary from input text\n",
        "\n",
        "train_text, vocab = get_tokenised_text_and_vocab(ds_type='train')\n",
        "validation_text, _ = get_tokenised_text_and_vocab(ds_type='valid', vocab=vocab)\n",
        "\n",
        "# Check the size of vocabulary\n",
        "vocab_size = len(vocab.get_stoi())\n",
        "print(vocab_size)"
      ]
    },
    {
      "cell_type": "markdown",
      "metadata": {
        "id": "wtpfw2ZCfrFf"
      },
      "source": [
        "\n",
        "Now it's time to implement an [n-gram language model](https://web.stanford.edu/~jurafsky/slp3/3.pdf).\n",
        "\n",
        "One edge case you will need to handle is that you don't have $n-1$ prior characters at the beginning of the text.  One way to do this is by appending the `START` token $n-1$ times at the start of the name, when implementing an $n$-gram model. You may choose whichever method you like to handle this case as long as you produce a valid probability distribution (one that sums to one).\n",
        "\n",
        "**Generating names**\n",
        "\n",
        "To generate from a language model, we can sample one char at a time conditioning on the chars we have generated so far.\n",
        "\n",
        "In fact there are many strategies to get better-sounding samples, such as only sampling from the top-k chars or sharpening the distribution with a temperature.  You can read more about sampling from a language model in [this](https://arxiv.org/pdf/1904.09751.pdf) paper.\n",
        "\n",
        "\n",
        "We will now implement N-gram models with $N=1$ (unigram), $N=2$ (bigram), and $N=3$ (trigram).\n",
        "\n",
        "**Utility Functions**\n",
        "\n",
        "Implement the utility functions `get_unigram_counts`, `get_bigram_counts` and `get_trigram_counts`. You can use these functions while implementing n-gram models."
      ]
    },
    {
      "cell_type": "code",
      "execution_count": null,
      "metadata": {
        "id": "aG5lMSVDfoyX"
      },
      "outputs": [],
      "source": [
        "def get_unigram_counts(corpus):\n",
        "    \"\"\"\n",
        "    Given a corpus, calculates the unigram counts for each character in the corpus\n",
        "\n",
        "    Args:\n",
        "        corpus [list[list[str]]]: list of tokenized characters. Text is appended with END token.\n",
        "\n",
        "    Returns:\n",
        "        unigram_counts [dict [key: char, value: count]]:\n",
        "            dictionary of unigram counts for each character in the corpus\n",
        "        Example:\n",
        "        > unigram_counts[\"c1\"] = 5\n",
        "    \"\"\"\n",
        "\n",
        "    # ADD YOUR CODE HERE\n",
        "\n",
        "    return unigram_counts"
      ]
    },
    {
      "cell_type": "code",
      "execution_count": null,
      "metadata": {
        "id": "7YhWT1YdgY3P"
      },
      "outputs": [],
      "source": [
        "def get_bigram_counts(corpus):\n",
        "    \"\"\"\n",
        "    Given a corpus, calculates the bigram counts for each bigram in the corpus.\n",
        "    The corpus *only* contains END tokens at the end of names.\n",
        "    You may want to handle the case whhere beginning of the name\n",
        "    does not have n-1 prior chars.\n",
        "\n",
        "    Args:\n",
        "        corpus [list[list[str]]]: list of tokenized text. Text is appended with END token.\n",
        "\n",
        "    Returns:\n",
        "        bigram_counts [dict[dict]]:\n",
        "            nested dictionary of bigram counts for each bigram in the corpus\n",
        "        Example:\n",
        "        > bigram_counts[\"c1\"][\"c2\"] = 5\n",
        "        here bigram_counts[\"c1\"][\"c2\"] represents P(\"c2\"|\"c1\")\n",
        "        P[\"c1\"][\"c2\"] means P[char_i = \"c2\"|char_{i-1} = \"c1\"]\n",
        "    \"\"\"\n",
        "\n",
        "    # ADD YOUR CODE HERE\n",
        "\n",
        "    return bigram_counts"
      ]
    },
    {
      "cell_type": "code",
      "execution_count": null,
      "metadata": {
        "id": "LZefWM6x2CSH"
      },
      "outputs": [],
      "source": [
        "def get_trigram_counts(corpus):\n",
        "    \"\"\"\n",
        "    Given a corpus, calculates the trigram counts for each trigram in the corpus.\n",
        "    The corpus *only* contains END tokens at the end of names.\n",
        "    You may want to handle the case where beginning of the text\n",
        "    does not have n-1 prior chars.\n",
        "\n",
        "    Args:\n",
        "        corpus [list[list[str]]]: list of tokenized text. Text is appended with END token.\n",
        "\n",
        "    Returns:\n",
        "        trigram_counts [dict[dict[dict]]]:\n",
        "            nested dictionary for each trigram in the corpus\n",
        "        Example:\n",
        "        > trigram_counts[\"c1\"][\"c2\"][\"c3\"] = 5\n",
        "        P[\"c1\"][\"c2\"][\"c3] means P[char_i = \"c3\"|char_{i-2} = \"c1\", char_{i-1} = \"c2\"]\n",
        "\n",
        "    \"\"\"\n",
        "\n",
        "    # ADD YOUR CODE HERE\n",
        "\n",
        "    return trigram_counts"
      ]
    },
    {
      "cell_type": "code",
      "execution_count": null,
      "metadata": {
        "id": "PzrZT7KdWvyh"
      },
      "outputs": [],
      "source": [
        "\"\"\"\n",
        "Implementation of the n-gram language models.\n",
        "All other n-gram models (unigram, bigram, etc.) would follow the same skeleton.\n",
        "\"\"\"\n",
        "\n",
        "class NGramLanguageModel(object):\n",
        "    def __init__(self, train_text):\n",
        "        \"\"\"\n",
        "        Initialise and train the model with train_text.\n",
        "\n",
        "        Args:\n",
        "            train_text [list of list]: list of tokenised names\n",
        "\n",
        "        Returns:\n",
        "            -\n",
        "        \"\"\"\n",
        "        return\n",
        "\n",
        "    def get_next_char_probabilities(self):\n",
        "        \"\"\"\n",
        "        Returns a probability distribution over all chars in the vocabulary.\n",
        "        Probability distribution should sum to one.\n",
        "\n",
        "        Returns:\n",
        "            P: dictionary or nested dictionary; Output format depends on n-gram\n",
        "            Examples:\n",
        "                for N=1 (unigram); dict[key:unigram,value:probability of unigram]\n",
        "                    > P[\"c1\"] = 0.0001\n",
        "                for N=2 (bigram); dict[key:bigram_char1, value:dict[key:bigram_char2,value:probability of bigram]]\n",
        "                    > P[\"c1\"][\"c2\"] = 0.0001\n",
        "                    P[\"c1\"][\"c2\"] means P[\"c2\"|\"c1\"]\n",
        "                for N=3 (trigram); dict[dict[dict]]\n",
        "                    > P[\"c1\"][\"c2\"][\"c3\"] = 0.0001\n",
        "                    P[\"c1\"][\"c2\"][\"c3] means P[char_i = \"c3\"|char_{i-2} = \"c1\", char_{i-1} = \"c2\"]\n",
        "        \"\"\"\n",
        "\n",
        "        return\n",
        "\n",
        "\n",
        "    def get_name_log_probability(self, name):\n",
        "        \"\"\"\n",
        "        Calculates the log probability of name according to the language model\n",
        "\n",
        "        Args:\n",
        "            name [list]: list of tokens\n",
        "\n",
        "        Returns:\n",
        "            log_prob [float]: Log probability of the given name\n",
        "        \"\"\"\n",
        "        return 0.0\n",
        "\n",
        "\n",
        "    def get_perplexity(self, text):\n",
        "        \"\"\"\n",
        "        Returns the perplexity of the model on a text as a float.\n",
        "\n",
        "        Args:\n",
        "            text [list]: a list of string tokens\n",
        "\n",
        "        Returns:\n",
        "            perplexity [float]: perplexity of the given text\n",
        "        \"\"\"\n",
        "        return 0.0\n",
        "\n",
        "\n",
        "    def generate_names(self, k, n=MAX_NAME_LENGTH, prefix=None):\n",
        "        \"\"\"\n",
        "        Given a prefix, generate k names according to the model.\n",
        "        The default prefix is None.\n",
        "        You may stop the generation when n tokens have been generated,\n",
        "        or when you encounter the END token.\n",
        "\n",
        "        Args:\n",
        "            k [int]: Number of names to generate\n",
        "            n [int]: Maximum length (number of tokens) in the generated name\n",
        "            prefix [list of tokens]: Prefix after which the names have to be generated\n",
        "\n",
        "        Returns:\n",
        "            names [list[str]]: list of generated names\n",
        "        \"\"\"\n",
        "        return []\n",
        "\n",
        "    def get_most_likely_chars(self, sequence, k):\n",
        "        \"\"\"\n",
        "        Given a sequence of characters, outputs k most likely characters after the sequence.\n",
        "\n",
        "        Args:\n",
        "            sequence [list[str]]: list of characters\n",
        "            k [int]: number of most likely characters to return\n",
        "\n",
        "        Returns:\n",
        "            chars [list[str]]: *Ordered* list of most likely characters\n",
        "                        (with charcater at index 0 being the most likely and\n",
        "                        character at index k-1 being the least likely)\n",
        "\n",
        "        \"\"\"\n",
        "        return []"
      ]
    },
    {
      "cell_type": "code",
      "source": [
        "## Please do not change anything in this code block.\n",
        "\n",
        "def check_validity(model, ngram, is_neural):\n",
        "    \"\"\"\n",
        "    Checks if get_next_char_probabilities returns a valid probability distribution\n",
        "    \"\"\"\n",
        "\n",
        "    if ngram==1 or is_neural:\n",
        "        P = model.get_next_char_probabilities()\n",
        "        is_valid = validate_probability_distribution(P.values())\n",
        "        if not is_valid:\n",
        "            return is_valid\n",
        "\n",
        "    elif ngram==2:\n",
        "        P = model.get_next_char_probabilities()\n",
        "        for char1 in P.keys():\n",
        "            is_valid = validate_probability_distribution(list(P[char1].values()))\n",
        "            if not is_valid:\n",
        "                return is_valid\n",
        "\n",
        "    elif ngram==3:\n",
        "        P = model.get_next_char_probabilities()\n",
        "        for char1 in P.keys():\n",
        "            for char2 in P[char1].keys():\n",
        "                is_valid = validate_probability_distribution(list(P[char1][char2].values()))\n",
        "                if not is_valid:\n",
        "                    return is_valid\n",
        "    else:\n",
        "        print(\"Enter a valid number for ngram\")\n",
        "\n",
        "    return True\n",
        "\n",
        "\n",
        "def validate_probability_distribution(probs):\n",
        "    \"\"\"\n",
        "    Checks if probs is a valid probability distribution\n",
        "    \"\"\"\n",
        "    if not min(probs) >= 0:\n",
        "        print(\"Negative value in probabilities\")\n",
        "        return False\n",
        "    elif not max(probs) <= 1 + 1e-8:\n",
        "        print(\"Value larger than 1 in probabilities\")\n",
        "        return False\n",
        "    elif not abs(sum(probs)-1) < 1e-4:\n",
        "        print(\"probabilities do not sum to 1\")\n",
        "        return False\n",
        "    return True\n",
        "\n",
        "\n",
        "def eval_ngram_model(model, ngram, ds, ds_name, eval_prefixes, eval_sequences, num_names=5, is_neural=False):\n",
        "    \"\"\"\n",
        "    Runs the following evaluations on n-gram models:\n",
        "    (1) checks if probability distribution returned by model.get_next_char_probabilities() sums to one\n",
        "    (2) checks the perplexity of the model\n",
        "    (3) generates names using model.generate_names()\n",
        "    (4) generates names given a prefix using model.generate_names()\n",
        "    (4) output most likely characters after a given sequence of chars using model.get_most_likely_chars()\n",
        "    \"\"\"\n",
        "\n",
        "    # (1) checks if probability distributions sum to one\n",
        "    is_valid = check_validity(model=model, ngram=ngram, is_neural=is_neural)\n",
        "    print(f'EVALUATION probability distribution is valid: {is_valid}')\n",
        "\n",
        "    # (2) evaluate the perplexity of the model on the dataset\n",
        "    print(f'EVALUATION of {ngram}-gram on {ds_name} perplexity:',\n",
        "        model.get_perplexity(ds))\n",
        "\n",
        "    # (3) generate a few names\n",
        "    generated_names = \", \".join(model.generate_names(k=num_names))\n",
        "    print(f'EVALUATION {ngram}-gram generated names are {generated_names}')\n",
        "\n",
        "    # (4) generate a few names given a prefix\n",
        "    for prefix in eval_prefixes:\n",
        "        generated_names_with_prefix = \", \".join(model.generate_names(k=num_names, prefix=prefix))\n",
        "        prefix = ''.join(prefix)\n",
        "        print(f'EVALUATION {ngram}-gram generated names with prefix {prefix} are {generated_names_with_prefix}')\n",
        "\n",
        "    # (5) get most likely characters after a sequence\n",
        "    for sequence in eval_sequences:\n",
        "        most_likely_chars = \", \".join(model.get_most_likely_chars(sequence=sequence, k=num_names))\n",
        "        sequence = \"\".join(sequence)\n",
        "        print(f\"EVALUATION {ngram}-gram top most likely chars after {sequence} are {most_likely_chars}\")"
      ],
      "metadata": {
        "id": "brl9eamN5aql"
      },
      "execution_count": null,
      "outputs": []
    },
    {
      "cell_type": "markdown",
      "metadata": {
        "id": "gIePKuk-eGQm"
      },
      "source": [
        "## 1.1 Unigram"
      ]
    },
    {
      "cell_type": "code",
      "execution_count": null,
      "metadata": {
        "id": "9s9IXffIMmaa"
      },
      "outputs": [],
      "source": [
        "\"\"\"\n",
        "Implementaion of a Unigram Model without smoothing\n",
        "\"\"\"\n",
        "\n",
        "class UnigramModel(NGramLanguageModel):\n",
        "    def __init__(self, train_text):\n",
        "        \"\"\"\n",
        "        Initialise and train the model with train_text.\n",
        "\n",
        "        Args:\n",
        "            train_text [list of list]: list of tokenised names\n",
        "        \"\"\"\n",
        "\n",
        "        # ADD YOUR CODE HERE\n",
        "\n",
        "\n",
        "    def get_next_char_probabilities(self):\n",
        "        \"\"\"\n",
        "        Return a dictionary of probabilities for each char in the vocabulary\n",
        "\n",
        "        Returns:\n",
        "            key: char, value: probability\n",
        "        \"\"\"\n",
        "\n",
        "        # ADD YOUR CODE HERE\n",
        "\n",
        "        return next_char_probabilities\n",
        "\n",
        "\n",
        "\n",
        "    def get_name_log_probability(self, name):\n",
        "        \"\"\"\n",
        "        Calculates the log probability of name according to the n-gram model\n",
        "\n",
        "        Args:\n",
        "            name [list]: list of tokens\n",
        "\n",
        "        Returns:\n",
        "            Log probability of the name [float]\n",
        "        \"\"\"\n",
        "\n",
        "        # ADD YOUR CODE HERE\n",
        "\n",
        "        return name_log_probability\n",
        "\n",
        "\n",
        "\n",
        "    def get_perplexity(self, text):\n",
        "        \"\"\"\n",
        "        Returns the perplexity of the model on a text as a float.\n",
        "\n",
        "        Args:\n",
        "            text [list]: a list of string tokens\n",
        "\n",
        "        Returns:\n",
        "            perplexity of the given text [float]\n",
        "        \"\"\"\n",
        "\n",
        "        # ADD YOUR CODE HERE\n",
        "\n",
        "        return perplexity\n",
        "\n",
        "\n",
        "    def generate_names(self, k, n=MAX_NAME_LENGTH, prefix=None):\n",
        "        \"\"\"\n",
        "        Given a prefix, generate k names according to the model.\n",
        "        The default prefix is None.\n",
        "\n",
        "        Args:\n",
        "            k [int]: Number of names to generate\n",
        "            n [int]: Maximum length (number of tokens) in the generated name\n",
        "            prefix [list of tokens]: Prefix after which the names have to be generated\n",
        "\n",
        "        Returns:\n",
        "            list of generated names [list]\n",
        "        \"\"\"\n",
        "\n",
        "        # ADD YOUR CODE HERE\n",
        "\n",
        "\n",
        "        return names\n",
        "\n",
        "\n",
        "    def get_most_likely_chars(self, sequence, k):\n",
        "        \"\"\"\n",
        "        Given a sequence of characters, outputs k most likely characters after the sequence.\n",
        "\n",
        "        Args:\n",
        "            sequence [list[str]]: list of characters\n",
        "            k [int]: number of most likely characters to return\n",
        "\n",
        "        Returns:\n",
        "            chars [list[str]]: *Ordered* list of most likely characters\n",
        "                        (with charcater at index 0 being the most likely and\n",
        "                        character at index k-1 being the least likely)\n",
        "\n",
        "        \"\"\"\n",
        "        # ADD YOUR CODE HERE\n",
        "\n",
        "        return most_likely_chars"
      ]
    },
    {
      "cell_type": "markdown",
      "metadata": {
        "id": "kPcVNCYDfwFz"
      },
      "source": [
        "### Eval"
      ]
    },
    {
      "cell_type": "markdown",
      "source": [
        "**Note**: For models without smoothing, you may observe perplexity as `inf` if the validation or test set contains characters not seen in the train set\n",
        "However, this should not happen for models where you implement smoothing."
      ],
      "metadata": {
        "id": "hBPe6h00gJlr"
      }
    },
    {
      "cell_type": "code",
      "source": [
        "## Please do not change anything in this code block.\n",
        "\n",
        "unigram_model = UnigramModel(train_text)\n",
        "\n",
        "# Check the perplexity of the unigram model on the train set\n",
        "print('unigram train perplexity:',\n",
        "      unigram_model.get_perplexity(train_text))"
      ],
      "metadata": {
        "id": "RQYB_iVW7PWQ"
      },
      "execution_count": null,
      "outputs": []
    },
    {
      "cell_type": "code",
      "source": [
        "## Please do not change anything in this code block.\n",
        "\n",
        "eval_ngram_model(model=unigram_model, ngram=1, ds=validation_text, ds_name='validation', eval_prefixes=eval_prefixes, eval_sequences=eval_sequences, num_names=5)"
      ],
      "metadata": {
        "id": "uwZDmVL77j5b"
      },
      "execution_count": null,
      "outputs": []
    },
    {
      "cell_type": "markdown",
      "metadata": {
        "id": "64KYOJh2hCHS"
      },
      "source": [
        "### Smoothing\n",
        "\n",
        "Implement a smoothed version of the unigram model. You may extend the `UnigramModel` class and re-use some of the functions.  For unigram model, you should implement Add-1 smoothing.\n",
        "\n",
        "You may refer to the lecture slides or [3.5 Smoothing](https://web.stanford.edu/~jurafsky/slp3/3.pdf) for details on different smoothing technqiues.\n"
      ]
    },
    {
      "cell_type": "code",
      "execution_count": null,
      "metadata": {
        "id": "eefDQsXyWipv"
      },
      "outputs": [],
      "source": [
        "\"\"\"\n",
        "Implementation of unigram model with Add-1 smoothing.\n",
        "\n",
        "\"\"\"\n",
        "class SmoothedUnigramModel(UnigramModel):\n",
        "\n",
        "    def __init__(self, train_text):\n",
        "        super().__init__(train_text)\n",
        "\n",
        "    # You should override ONLY those functions\n",
        "    # which calculate probability of a unigram.\n",
        "    # You can override get_next_char_probabilities\n",
        "    # or any other helper functions you use in UnigramModel\n",
        "    # to calculate unigram probabilities.\n",
        "\n",
        "    # Implement Laplace or Add-1 smoothing for the unigram model\n",
        "\n",
        "    # ADD YOUR CODE HERE"
      ]
    },
    {
      "cell_type": "code",
      "execution_count": null,
      "metadata": {
        "id": "ISM9uM2H8K7O"
      },
      "outputs": [],
      "source": [
        "## Please do not change anything in this code block.\n",
        "\n",
        "smoothed_unigram_model = SmoothedUnigramModel(train_text)\n",
        "\n",
        "# Check the perplexity of the smoothed unigram model on the train set\n",
        "print('smoothed unigram train perplexity:',\n",
        "      smoothed_unigram_model.get_perplexity(train_text))"
      ]
    },
    {
      "cell_type": "code",
      "execution_count": null,
      "metadata": {
        "id": "PuawSvP58K7P"
      },
      "outputs": [],
      "source": [
        "## Please do not change anything in this code block.\n",
        "\n",
        "eval_ngram_model(model=smoothed_unigram_model, ngram=1, ds=validation_text, ds_name='validation', eval_prefixes=eval_prefixes, eval_sequences=eval_sequences,  num_names=5)"
      ]
    },
    {
      "cell_type": "code",
      "source": [
        "# Release models we don't need any more.\n",
        "del unigram_model\n",
        "del smoothed_unigram_model"
      ],
      "metadata": {
        "id": "qYdm3Ox09g96"
      },
      "execution_count": null,
      "outputs": []
    },
    {
      "cell_type": "markdown",
      "metadata": {
        "id": "TZOZ_XnseIXP"
      },
      "source": [
        "## 1.2 Bigram"
      ]
    },
    {
      "cell_type": "code",
      "execution_count": null,
      "metadata": {
        "id": "pwJflAiVaM36"
      },
      "outputs": [],
      "source": [
        "\"\"\"\n",
        "Implementation of a Bigram Model.\n",
        "\"\"\"\n",
        "\n",
        "class BigramModel(NGramLanguageModel):\n",
        "    def __init__(self, train_text):\n",
        "        \"\"\"\n",
        "        Initialise and train the model with train_text.\n",
        "\n",
        "        Args:\n",
        "            train_text [list of list]: list of tokenised names\n",
        "        \"\"\"\n",
        "\n",
        "        # ADD YOUR CODE HERE\n",
        "\n",
        "    def get_next_char_probabilities(self):\n",
        "        \"\"\"\n",
        "        Returns a probability distribution over all chars in the vocabulary.\n",
        "        Probability distribution should sum to one.\n",
        "\n",
        "        Returns:\n",
        "            P: dictionary or nested dictionary; Output format depends on n-gram\n",
        "            Examples:\n",
        "                for N=2 (bigram); dict[key:bigram_char1, value:dict[key:bigram_char2,value:probability of bigram]]\n",
        "                    > P[\"a\"][\"b\"] = 0.0001 (which stands of P(\"b\"|\"a\"))\n",
        "        \"\"\"\n",
        "\n",
        "        # ADD YOUR CODE HERE\n",
        "\n",
        "        return next_char_probabilities\n",
        "\n",
        "\n",
        "    def get_name_log_probability(self, name):\n",
        "        \"\"\"\n",
        "        Calculates the log probability of name according to the n-gram model.\n",
        "        Be careful with cases for which probability of the name is zero.\n",
        "\n",
        "        Args:\n",
        "            name [list]: list of tokens\n",
        "\n",
        "        Returns:\n",
        "            Log probability of the name [float]\n",
        "        \"\"\"\n",
        "\n",
        "        # ADD YOUR CODE HERE\n",
        "\n",
        "        return name_log_probability\n",
        "\n",
        "\n",
        "    def get_perplexity(self, text):\n",
        "        \"\"\"\n",
        "        Returns the perplexity of the model on a text as a float.\n",
        "\n",
        "        Args:\n",
        "            text [list]: a list of string tokens\n",
        "\n",
        "        Returns:\n",
        "            perplexity of the given text [float]\n",
        "        \"\"\"\n",
        "\n",
        "        # ADD YOUR CODE HERE\n",
        "\n",
        "        return perplexity\n",
        "\n",
        "\n",
        "    def generate_names(self, k, n=MAX_NAME_LENGTH, prefix=None):\n",
        "        \"\"\"\n",
        "        Given a prefix, generate k names according to the model.\n",
        "        The default prefix is None.\n",
        "\n",
        "        Args:\n",
        "            k [int]: Number of names to generate\n",
        "            n [int]: Maximum length (number of tokens) in the generated name\n",
        "            prefix [list of tokens]: Prefix after which the names have to be generated\n",
        "\n",
        "        Returns:\n",
        "            list of generated names [list]\n",
        "        \"\"\"\n",
        "\n",
        "        # ADD YOUR CODE HERE\n",
        "\n",
        "        return names\n",
        "\n",
        "\n",
        "    def get_most_likely_chars(self, sequence, k):\n",
        "        \"\"\"\n",
        "        Given a sequence of characters, outputs k most likely characters after the sequence.\n",
        "\n",
        "        Args:\n",
        "            sequence [list[str]]: list of characters\n",
        "            k [int]: number of most likely characters to return\n",
        "\n",
        "        Returns:\n",
        "            chars [list[str]]: *Ordered* list of most likely characters\n",
        "                        (with charcater at index 0 being the most likely and\n",
        "                        character at index k-1 being the least likely)\n",
        "\n",
        "        \"\"\"\n",
        "        # ADD YOUR CODE HERE\n",
        "\n",
        "        return most_likely_chars"
      ]
    },
    {
      "cell_type": "markdown",
      "metadata": {
        "id": "OUIOOq0DjR2A"
      },
      "source": [
        "### Eval"
      ]
    },
    {
      "cell_type": "code",
      "execution_count": null,
      "metadata": {
        "id": "FH3ETGRIcinT"
      },
      "outputs": [],
      "source": [
        "## Please do not change anything in this code block.\n",
        "\n",
        "bigram_model = BigramModel(train_text)\n",
        "\n",
        "# check the perplexity of the bigram model on training data\n",
        "print('bigram train perplexity:',\n",
        "      bigram_model.get_perplexity(train_text))"
      ]
    },
    {
      "cell_type": "code",
      "source": [
        "## Please do not change anything in this code block.\n",
        "\n",
        "eval_ngram_model(model=bigram_model, ngram=2, ds=validation_text, ds_name='validation', eval_prefixes=eval_prefixes, eval_sequences=eval_sequences, num_names=5)"
      ],
      "metadata": {
        "id": "2BN8phEn8i0k"
      },
      "execution_count": null,
      "outputs": []
    },
    {
      "cell_type": "markdown",
      "metadata": {
        "id": "rLmvdpBohH6G"
      },
      "source": [
        "### Smoothing\n",
        "\n",
        "Implement a smoothed version of the bigram model. You may extend the `BigramModel` class and re-use some of the functions.\n",
        "\n",
        "You will implement the following smoothing techniques:\n",
        "-  Laplace or add-k smoothing\n",
        "- Interpolation\n"
      ]
    },
    {
      "cell_type": "markdown",
      "metadata": {
        "id": "-kj-gNsX08jC"
      },
      "source": [
        "**Laplace or Add-k smoothing**\n",
        "- what is the effect of changing `k`?"
      ]
    },
    {
      "cell_type": "code",
      "source": [
        "\"\"\"choose your hyperparameter and see the difference in performance\"\"\"\n",
        "\n",
        "# ADD YOUR CODE HERE\n",
        "\n",
        "# CHANGE THE None VALUES TO YOUR DESIRED VALUES\n",
        "# Please feel free to play with these hyperparameters to see the effects on the\n",
        "# quality of generated names and perplexity\n",
        "\n",
        "BIGRAM_LAPLACE_K = None # value of k for add-k or Laplac smoothing in bigram models"
      ],
      "metadata": {
        "id": "s22-fpeT4bgU"
      },
      "execution_count": null,
      "outputs": []
    },
    {
      "cell_type": "code",
      "execution_count": null,
      "metadata": {
        "id": "nHsod0DXfEx8"
      },
      "outputs": [],
      "source": [
        "\"\"\"\n",
        "Implementation of a bigram model with laplace or add-k smoothing.\n",
        "\n",
        "\"\"\"\n",
        "\n",
        "class LaplaceSmoothedBigramModel(BigramModel):\n",
        "    # This class extends BigramModel.\n",
        "\n",
        "    def __init__(self, train_text, k):\n",
        "        super().__init__(train_text)\n",
        "        self.k = k # specify k for smoothing\n",
        "\n",
        "    # You should override ONLY those functions\n",
        "    # which calculate probability of a bigram.\n",
        "    # You can override get_next_char_probabilities\n",
        "    # or any other helper functions you use in BigramModel\n",
        "    # to calculate bigram probabilities.\n",
        "\n",
        "    # ADD YOUR CODE HERE"
      ]
    },
    {
      "cell_type": "code",
      "execution_count": null,
      "metadata": {
        "id": "2Hu1YFQxjWvz"
      },
      "outputs": [],
      "source": [
        "## Please do not change anything in this code block.\n",
        "\n",
        "smoothed_bigram_model = LaplaceSmoothedBigramModel(train_text, k=BIGRAM_LAPLACE_K)\n",
        "\n",
        "# check the perplexity of the bigram model on training data\n",
        "print('smoothed bigram train perplexity:',\n",
        "      smoothed_bigram_model.get_perplexity(train_text))"
      ]
    },
    {
      "cell_type": "code",
      "source": [
        "## Please do not change anything in this code block.\n",
        "\n",
        "eval_ngram_model(model=smoothed_bigram_model, ngram=2, ds=validation_text, ds_name='validation', eval_prefixes=eval_prefixes, eval_sequences=eval_sequences, num_names=5)"
      ],
      "metadata": {
        "id": "bR0Su_WS8uhm"
      },
      "execution_count": null,
      "outputs": []
    },
    {
      "cell_type": "markdown",
      "metadata": {
        "id": "s4fhvedn1A0e"
      },
      "source": [
        "**Interpolation**\n",
        "- what are good values for `lambdas` in interpolation?"
      ]
    },
    {
      "cell_type": "code",
      "execution_count": null,
      "metadata": {
        "id": "MICCLx7yxxg-"
      },
      "outputs": [],
      "source": [
        "\"\"\"choose your hyperparameter and see the difference in performance\"\"\"\n",
        "\n",
        "# ADD YOUR CODE HERE\n",
        "\n",
        "# CHANGE THE None VALUES TO YOUR DESIRED VALUES\n",
        "# Please feel free to play with these hyperparameters to see the effects on the\n",
        "# quality of generated names and perplexity\n",
        "\n",
        "BIGRAM_LAMBDAS = (None, None) # lambdas for interpolation smoothing in bigram models"
      ]
    },
    {
      "cell_type": "code",
      "execution_count": null,
      "metadata": {
        "id": "oDxCF6oayhc_"
      },
      "outputs": [],
      "source": [
        "\"\"\"\n",
        "Implementation of a bigram model with interpolation smoothing\n",
        "\"\"\"\n",
        "\n",
        "class InterpolationSmoothedBigramModel(BigramModel):\n",
        "\n",
        "    def __init__(self, train_text, lambdas):\n",
        "        super().__init__(train_text)\n",
        "        self.lambda_1, self.lambda_2 = lambdas\n",
        "\n",
        "    # You should override ONLY those functions\n",
        "    # which calculate probability of a bigram.\n",
        "    # You can override get_next_char_probabilities\n",
        "    # or any other helper functions you use in BigramModel\n",
        "    # to calculate bigram probabilities.\n",
        "\n",
        "    # ADD YOUR CODE HERE"
      ]
    },
    {
      "cell_type": "code",
      "source": [
        "## Please do not change anything in this code block.\n",
        "\n",
        "smoothed_bigram_model = InterpolationSmoothedBigramModel(train_text, lambdas=BIGRAM_LAMBDAS)\n",
        "\n",
        "# check the perplexity of the bigram model on training data\n",
        "print('smoothed bigram train perplexity:',\n",
        "      smoothed_bigram_model.get_perplexity(train_text))"
      ],
      "metadata": {
        "id": "KOcXbCHE87nR"
      },
      "execution_count": null,
      "outputs": []
    },
    {
      "cell_type": "code",
      "source": [
        "## Please do not change anything in this code block.\n",
        "\n",
        "eval_ngram_model(model=smoothed_bigram_model, ngram=2, ds=validation_text, ds_name='validation', eval_prefixes=eval_prefixes, eval_sequences=eval_sequences, num_names=5)"
      ],
      "metadata": {
        "id": "cTbTOynX86dl"
      },
      "execution_count": null,
      "outputs": []
    },
    {
      "cell_type": "code",
      "source": [
        "# Release models we don't need any more.\n",
        "del bigram_model\n",
        "del smoothed_bigram_model"
      ],
      "metadata": {
        "id": "qjSDZS0s9lZi"
      },
      "execution_count": null,
      "outputs": []
    },
    {
      "cell_type": "markdown",
      "metadata": {
        "id": "WjVndxFa1iGi"
      },
      "source": [
        "## 1.3 Trigram (smoothed)"
      ]
    },
    {
      "cell_type": "code",
      "execution_count": null,
      "metadata": {
        "id": "Dw_rGQSDMC6S"
      },
      "outputs": [],
      "source": [
        "\"\"\"choose your hyperparameter and see the difference in performance\"\"\"\n",
        "\n",
        "# ADD YOUR CODE HERE\n",
        "\n",
        "# CHANGE THE None VALUES TO YOUR DESIRED VALUES\n",
        "# Please feel free to play with these hyperparameters to see the effects on the\n",
        "# quality of generated names and perplexity\n",
        "\n",
        "TRIGRAM_LAMBDAS = (None, None, None) # lambdas for interpolation smoothing in trigram models"
      ]
    },
    {
      "cell_type": "code",
      "execution_count": null,
      "metadata": {
        "id": "vagtEVtp1kLN"
      },
      "outputs": [],
      "source": [
        "\"\"\"\n",
        "Implementaion of a Trigram Model with interpolation smoothing.\n",
        "\"\"\"\n",
        "\n",
        "class TrigramModel(NGramLanguageModel):\n",
        "    def __init__(self, train_text):\n",
        "        \"\"\"\n",
        "        Initialise and train the model with train_text.\n",
        "\n",
        "        Args:\n",
        "            train_text [list of list]: list of tokenised names\n",
        "        \"\"\"\n",
        "\n",
        "        # ADD YOUR CODE HERE\n",
        "\n",
        "\n",
        "    def get_next_char_probabilities(self):\n",
        "        \"\"\"\n",
        "        Returns a probability distribution over all chars in the vocabulary.\n",
        "        Probability distribution should sum to one.\n",
        "\n",
        "        Returns:\n",
        "            P: dictionary or nested dictionary; Output format depends on n-gram\n",
        "            Examples:\n",
        "                for N=1 (unigram); dict[key:unigram,value:probability of unigram]\n",
        "                    > P[\"a\"] = 0.0001\n",
        "                for N=2 (bigram); dict[key:bigram_char1, value:dict[key:bigram_char2,value:probability of bigram]]\n",
        "                    > P[\"a\"][\"b\"] = 0.0001 (corresponding to P(b|a))\n",
        "                for N=3 (trigram); dict[dict[dict]]\n",
        "                    > P[\"a\"][\"b\"][\"c\"] = 0.0001 (corresponding to P(c|ab))\n",
        "        \"\"\"\n",
        "\n",
        "        # ADD YOUR CODE HERE\n",
        "\n",
        "        return next_char_probabilities\n",
        "\n",
        "\n",
        "    def get_name_log_probability(self, name):\n",
        "        \"\"\"\n",
        "        Calculates the log probability of name according to the n-gram model.\n",
        "        Be careful with cases for which probability of the name is zero.\n",
        "\n",
        "        Args:\n",
        "            name [list]: list of tokens\n",
        "\n",
        "        Returns:\n",
        "            Log probability of the name [float]\n",
        "        \"\"\"\n",
        "\n",
        "        # ADD YOUR CODE HERE\n",
        "\n",
        "        return name_log_probability\n",
        "\n",
        "\n",
        "    def get_perplexity(self, text):\n",
        "        \"\"\"\n",
        "        Returns the perplexity of the model on a text as a float.\n",
        "\n",
        "        Args:\n",
        "            text [list]: a list of string tokens\n",
        "\n",
        "        Returns:\n",
        "            perplexity of the given text [float]\n",
        "        \"\"\"\n",
        "\n",
        "        # ADD YOUR CODE HERE\n",
        "\n",
        "        return perplexity\n",
        "\n",
        "\n",
        "    def generate_names(self, k, n=MAX_NAME_LENGTH, prefix=None):\n",
        "        \"\"\"\n",
        "        Given a prefix, generate k names according to the model.\n",
        "        The default prefix is None.\n",
        "\n",
        "        Args:\n",
        "            k [int]: Number of names to generate\n",
        "            n [int]: Maximum length (number of tokens) in the generated name\n",
        "            prefix [list of tokens]: Prefix after which the names have to be generated\n",
        "\n",
        "        Returns:\n",
        "            list of generated names [list]\n",
        "        \"\"\"\n",
        "\n",
        "        # ADD YOUR CODE HERE\n",
        "\n",
        "        return names\n",
        "\n",
        "\n",
        "    def get_most_likely_chars(self, sequence, k):\n",
        "        \"\"\"\n",
        "        Given a sequence of characters, outputs k most likely characters after the sequence.\n",
        "\n",
        "        Args:\n",
        "            sequence [list[str]]: list of characters\n",
        "            k [int]: number of most likely characters to return\n",
        "\n",
        "        Returns:\n",
        "            chars [list[str]]: *Ordered* list of most likely characters\n",
        "                        (with charcater at index 0 being the most likely and\n",
        "                        character at index k-1 being the least likely)\n",
        "\n",
        "        \"\"\"\n",
        "        # ADD YOUR CODE HERE\n",
        "\n",
        "        return most_likely_chars"
      ]
    },
    {
      "cell_type": "markdown",
      "metadata": {
        "id": "PKzFQN7BLNet"
      },
      "source": [
        "#### Eval"
      ]
    },
    {
      "cell_type": "code",
      "execution_count": null,
      "metadata": {
        "id": "Z1VPc3Y1C_f2"
      },
      "outputs": [],
      "source": [
        "## Please do not change anything in this code block.\n",
        "\n",
        "trigram_model = TrigramModel(train_text)\n",
        "\n",
        "print('trigram train perplexity:',\n",
        "      trigram_model.get_perplexity(train_text))"
      ]
    },
    {
      "cell_type": "code",
      "source": [
        "## Please do not change anything in this code block.\n",
        "\n",
        "eval_ngram_model(model=trigram_model, ngram=3, ds=validation_text, ds_name='validation', eval_prefixes=eval_prefixes, eval_sequences=eval_sequences, num_names=5)"
      ],
      "metadata": {
        "id": "CzmJeanF9MV1"
      },
      "execution_count": null,
      "outputs": []
    },
    {
      "cell_type": "code",
      "source": [
        "# Release models we don't need any more.\n",
        "del trigram_model"
      ],
      "metadata": {
        "id": "CO8n8Nfw9qSN"
      },
      "execution_count": null,
      "outputs": []
    },
    {
      "cell_type": "markdown",
      "source": [
        "# Module 2: Neural Language Modelling"
      ],
      "metadata": {
        "id": "IIY6joZm4U7Q"
      }
    },
    {
      "cell_type": "markdown",
      "metadata": {
        "id": "RR0QIMEkZFnc"
      },
      "source": [
        "## 2.1 Neural N-gram Language Model\n",
        "\n",
        "For this part of the assignment, you should use the GPU (you can do this by changing the runtime of this notebook).\n",
        "\n",
        "In this section, you will implement a neural version of an n-gram model.  The model will use a simple feedforward neural network that takes the previous `n-1` chars and outputs a distribution over the next char.\n",
        "\n",
        "You will use PyTorch to implement the model.  We've provided a little bit of code to help with the data loading using [PyTorch's data loaders](https://pytorch.org/docs/stable/data.html)"
      ]
    },
    {
      "cell_type": "code",
      "execution_count": null,
      "metadata": {
        "id": "KzMvPQ-2V_hZ"
      },
      "outputs": [],
      "source": [
        "# Import the necessary libraries\n",
        "\n",
        "import math\n",
        "import time\n",
        "import random\n",
        "import os, sys\n",
        "import json\n",
        "from functools import partial\n",
        "\n",
        "from tqdm import tqdm\n",
        "import torch\n",
        "import torch.nn as nn\n",
        "\n",
        "from matplotlib import pyplot as plt\n",
        "import numpy as np"
      ]
    },
    {
      "cell_type": "code",
      "execution_count": null,
      "metadata": {
        "id": "CvfDLLQO6Hrc"
      },
      "outputs": [],
      "source": [
        "## Please do not change anything in this code block.\n",
        "\n",
        "def collate_ngram(batch, text_pipeline):\n",
        "    \"\"\"\n",
        "    Converts the text in the batch to tokens\n",
        "    and maps the tokens to indices in the vocab.\n",
        "    The text in the batch is a list of ngrams\n",
        "    i.e. if N=3, then text contains 3 tokens in a list\n",
        "    and batch is a list of such texts.\n",
        "\n",
        "    Returns:\n",
        "        batch_input [pytorch tensor]:\n",
        "            input for n-gram model with size batch_size*(ngram-1)\n",
        "        batch_output [pytorch tensor]:\n",
        "            output for n-gram model with size batch_size\n",
        "    \"\"\"\n",
        "\n",
        "    batch_input, batch_output = [], []\n",
        "\n",
        "    # Process each text in the batch\n",
        "    for text in batch:\n",
        "        token_id_sequence = text_pipeline(text)\n",
        "        # last token is the output, and\n",
        "        #  pervious ngram-1 tokens are inputs\n",
        "        output = token_id_sequence.pop()\n",
        "        input = token_id_sequence\n",
        "        batch_input.append(input)\n",
        "        batch_output.append(output)\n",
        "\n",
        "    # Convert lists to PyTorch tensors and moves to the gpu (if using)\n",
        "    batch_input = torch.tensor(batch_input, dtype=torch.long)\n",
        "    batch_output = torch.tensor(batch_output, dtype=torch.long)\n",
        "    if USE_CUDA:\n",
        "        batch_input = batch_input.cuda()\n",
        "        batch_output = batch_output.cuda()\n",
        "\n",
        "    return batch_input, batch_output\n",
        "\n",
        "\n",
        "def get_dataloader(input_text, vocab, ngram, batch_size, shuffle):\n",
        "    \"\"\"\n",
        "    Creates a dataloader for the n-gram model which\n",
        "    takes in a list of list of tokens, appends the START token\n",
        "    at the starting of each text, and converts text into ngrams.\n",
        "\n",
        "    Example: For a trigram model, the list of characters are\n",
        "        [\"n\", \"a\", \"v\", \"r\"]\n",
        "    will be converted into lists\n",
        "        [\"n\", \"a\", \"v\"], [\"a\", \"v\", \"r\"]\n",
        "\n",
        "    For each ngram, first ngram-1 tokens are input and last token\n",
        "    is the output. Each token is converted into a index in the vocab.\n",
        "    The dataloader generates a batch of input, output pairs as\n",
        "    pytorch tensors.\n",
        "\n",
        "\n",
        "    Args:\n",
        "        input_text [list[list[str]]]: list of list of tokens\n",
        "        vocab [torchtext.vocab]: vocabulary of the corpus\n",
        "    \"\"\"\n",
        "\n",
        "    ngram_sequences = []\n",
        "    for text in input_text:\n",
        "        if text[0] == START:\n",
        "            text = [START]*(N_GRAM_LENGTH-2) + text\n",
        "        else:\n",
        "            text = [START]*(N_GRAM_LENGTH-1) + text\n",
        "\n",
        "        # Create training pairs for each char in the text\n",
        "        for idx in range(len(text) - ngram + 1):\n",
        "            ngram_sequence = text[idx : (idx + ngram)]\n",
        "            ngram_sequences.append(ngram_sequence)\n",
        "\n",
        "    text_pipeline = lambda x: vocab(x)\n",
        "    collate_fn = collate_ngram\n",
        "\n",
        "    # creates a DataLoader for the dataset\n",
        "\n",
        "    \"\"\"\n",
        "    dataloader documentation\n",
        "    https://pytorch.org/docs/stable/data.html#torch.utils.data.DataLoader\n",
        "    \"\"\"\n",
        "\n",
        "    dataloader = DataLoader(\n",
        "        ngram_sequences,\n",
        "        batch_size=batch_size,\n",
        "        shuffle=shuffle,\n",
        "        collate_fn=partial(collate_fn, text_pipeline=text_pipeline),\n",
        "        )\n",
        "    return dataloader"
      ]
    },
    {
      "cell_type": "markdown",
      "source": [
        "#### FNN Implementation"
      ],
      "metadata": {
        "id": "jgzJr_pRQnyt"
      }
    },
    {
      "cell_type": "markdown",
      "source": [
        "**Feed-forward Neural Language Modelling**\n",
        "\n",
        "Like the n-gram LM, the feedforward neural LM approximates the probability of a char given the entire prior context $P(w_t|w_{1:t−1})$ by approximating based on the $N-1$ previous chars:\n",
        "$$P(w_t|w_1,...,w_{t−1}) ≈ P(w_t|w_{t−N+1},...,w_{t−1})$$\n",
        "\n",
        "\n",
        "Implement the FNN LM given in this paper: [Neural Probabilistic Language Model](https://www.jmlr.org/papers/volume3/bengio03a/bengio03a.pdf)\n",
        "\n",
        "The architecture of the FNN can be described by the equation and figure:\n",
        "\n",
        "$$y = b + W x + U \\text t \\text a \\text n \\text h (d + H x)$$\n",
        "\n",
        "- $x$ is of size $(ngram-1)*m$ where $m$ is the size embedding dimensions\n",
        "- $y$ is of size $V*1$ where $V$ is the vocabulary size\n",
        "\n",
        "![FNN_LM](https://drive.google.com/uc?id=1aQhkXjWelHfiBfmBQV3z5TjHFNMtqtzT)\n",
        "\n",
        "\n",
        "**Some tips**:\n",
        "- embed the chars with dimension $m$ (example, $60$), then flatten into a single embedding for  $n-1$  chars (with size  $(n-1)*m$ )\n",
        "- you can use Adam or Stochastic Gradient Descent (SGD) for optimising the cross entropy loss\n",
        "- If you are using SGD, you may want to use momentum, and a learning rate scheduler\n",
        "- do early stopping based on validation set loss or perplexity\n",
        "\n",
        "**Important**: Fix seed as 42 whenever performing any randomized operations, e.g., initializing ML models."
      ],
      "metadata": {
        "id": "zYXn-sEtWH-A"
      }
    },
    {
      "cell_type": "code",
      "execution_count": null,
      "metadata": {
        "id": "ZkfUtubuZP-g"
      },
      "outputs": [],
      "source": [
        "\"\"\"\n",
        "Implemenation of a PyTorch Module that holds the neural network for your model\n",
        "\n",
        "\"\"\"\n",
        "class FNN_LM(nn.Module):\n",
        "\n",
        "    def __init__(self, vocab_size, emb_size, hid_size, ngram):\n",
        "        super(FNN_LM, self).__init__()\n",
        "        self.ngram = ngram\n",
        "\n",
        "        # YOUR CODE HERE\n",
        "\n",
        "\n",
        "    def forward(self, chars):\n",
        "        \"\"\"\n",
        "        Args:\n",
        "            chars: this is a tensor of inputs with shape [batch_size x ngram-1]\n",
        "\n",
        "        Returns:\n",
        "            logits: a tensor of log probabilities with shape [batch_size x vocab_size]\n",
        "\n",
        "        \"\"\"\n",
        "\n",
        "        # YOUR CODE HERE\n",
        "\n",
        "        return logits"
      ]
    },
    {
      "cell_type": "markdown",
      "source": [
        "**The following is the Trainer class for the FNN LM. Add your code for the `training` and `validation` loops.**"
      ],
      "metadata": {
        "id": "mU8cU_UURhM6"
      }
    },
    {
      "cell_type": "code",
      "source": [
        "class NeuralNGramTrainer:\n",
        "    \"\"\"\n",
        "    NeuralNGramTrainer wraps FNN_LM to handle training and evaluation.\n",
        "\n",
        "    \"\"\"\n",
        "\n",
        "    # NOTE: you are free to add additional inputs/functions\n",
        "    # to NeuralNGramTrainer to make training better\n",
        "    # make sure to define and add it within the input\n",
        "    # and initialization if you are using any additional inputs\n",
        "    # for usage in the function\n",
        "\n",
        "    def __init__(\n",
        "        self,\n",
        "        ngram,\n",
        "        model,\n",
        "        optimizer,\n",
        "        criterion,\n",
        "        train_dataloader,\n",
        "        valid_dataloader,\n",
        "        epochs,\n",
        "        use_cuda,\n",
        "        vocab,\n",
        "        model_dir\n",
        "    ):\n",
        "\n",
        "        self.ngram = ngram\n",
        "        self.model = model\n",
        "        self.epochs = epochs\n",
        "        self.optimizer = optimizer\n",
        "        self.criterion = criterion\n",
        "        self.train_dataloader = train_dataloader\n",
        "        self.valid_dataloader = valid_dataloader\n",
        "        self.use_cuda = use_cuda\n",
        "        self.model_dir = model_dir\n",
        "        self.loss = {\"train\": [], \"val\": []}\n",
        "        self.vocab = vocab\n",
        "\n",
        "        # Move the model to GPU if available\n",
        "        if self.use_cuda:\n",
        "            self.model = self.model.cuda()\n",
        "\n",
        "\n",
        "    def train(self):\n",
        "        \"\"\"\n",
        "        Trains the model with train_dataloader and validates using valid_dataloader\n",
        "\n",
        "        \"\"\"\n",
        "        # You may change the input arguments to this function,\n",
        "        # but make sure to also change the code wherever this function is called\n",
        "\n",
        "        # ADD YOUR CODE HERE\n",
        "        # FOR TRAINING & VALIDATION\n",
        "\n",
        "\n",
        "    def plot_losses(self):\n",
        "        \"\"\"\n",
        "        Plots the training and validation losses\n",
        "        \"\"\"\n",
        "        plt.plot(self.loss['train'], label='train_ppl')\n",
        "        plt.plot(self.loss['val'], label='val_ppl')\n",
        "        plt.legend()\n",
        "        plt.show\n",
        "\n",
        "\n",
        "    def save_model(self):\n",
        "        \"\"\"\n",
        "        Save final model to directory\n",
        "\n",
        "        \"\"\"\n",
        "\n",
        "        model_path = os.path.join(self.model_dir, \"model.pt\")\n",
        "        torch.save(self.model, model_path)\n",
        "\n",
        "\n",
        "    def save_loss(self):\n",
        "        \"\"\"\n",
        "        Save train/val loss as json file to the directory\n",
        "\n",
        "        \"\"\"\n",
        "\n",
        "        loss_path = os.path.join(self.model_dir, \"loss.json\")\n",
        "        with open(loss_path, \"w\") as fp:\n",
        "            json.dump(self.loss, fp)\n",
        "\n",
        "\n",
        "    def get_next_char_probabilities(self):\n",
        "        \"\"\"\n",
        "        Return a dictionary of probabilities for each char in the vocabulary\n",
        "        with a default starting sequence of [START]*(ngram-1)\n",
        "        Example:\n",
        "            If ngram=3, then default starting sequence for which\n",
        "            probabilities have to be returned is\n",
        "            [START, START]\n",
        "\n",
        "        Returns:\n",
        "            dictionary with key: char, value: probability\n",
        "\n",
        "        \"\"\"\n",
        "\n",
        "        # ADD YOUR CODE HERE\n",
        "\n",
        "        return next_char_probabilities\n",
        "\n",
        "\n",
        "    def generate_names(self, k, n, prefix=None):\n",
        "        \"\"\"\n",
        "        Given a prefix, generate k names according to the model.\n",
        "        The default prefix is None.\n",
        "\n",
        "        Args:\n",
        "            k [int]: Number of names to generate\n",
        "            n [int]: Maximum length (number of tokens) in the generated name\n",
        "            prefix [list of tokens]: Prefix after which the names have to be generated\n",
        "\n",
        "        Returns:\n",
        "            list of generated names [list[str]]\n",
        "        \"\"\"\n",
        "\n",
        "        # ADD YOUR CODE HERE\n",
        "\n",
        "        # don't forget self.model.eval()\n",
        "\n",
        "        return names\n",
        "\n",
        "\n",
        "    def get_perplexity(self, text):\n",
        "        \"\"\"\n",
        "        Returns the perplexity of the model on text as a float.\n",
        "\n",
        "        Args:\n",
        "            text [list[list[str]]]: list of tokenised names\n",
        "            > Example:\n",
        "            [['<s>', 'a', 'a', 'b', 'i', 'd', '</s>'],\n",
        "            ['<s>', 'a', 'a', 'b', 'i', 'd', 'a', '</s>']]\n",
        "\n",
        "        Returns:\n",
        "            perplexity [float]\n",
        "\n",
        "        \"\"\"\n",
        "\n",
        "        # ADD YOUR CODE HERE\n",
        "\n",
        "        # you may want to use the dataloader here\n",
        "        # don't forget self.model.eval()\n",
        "\n",
        "        return perplexity\n",
        "\n",
        "\n",
        "    def get_most_likely_chars(self, sequence, k):\n",
        "        \"\"\"\n",
        "        Given a sequence of characters, outputs k most likely characters after the sequence.\n",
        "\n",
        "        Args:\n",
        "            sequence [list[str]]: list of characters\n",
        "            k [int]: number of most likely characters to return\n",
        "\n",
        "        Returns:\n",
        "            chars [list[str]]: *Ordered* list of most likely characters\n",
        "                        (with charcater at index 0 being the most likely and\n",
        "                        character at index k-1 being the least likely)\n",
        "\n",
        "        \"\"\"\n",
        "\n",
        "        # ADD YOUR CODE HERE\n",
        "\n",
        "        # don't forget self.model.eval()\n",
        "\n",
        "        return most_likely_chars"
      ],
      "metadata": {
        "id": "7vTGLbaYCXz6"
      },
      "execution_count": null,
      "outputs": []
    },
    {
      "cell_type": "code",
      "execution_count": null,
      "metadata": {
        "id": "LNjAGhY0CXz8"
      },
      "outputs": [],
      "source": [
        "\"\"\"choose your hyperparameter and see the difference in performance\"\"\"\n",
        "\n",
        "# ADD YOUR CODE HERE\n",
        "\n",
        "# CHANGE THE None VALUES TO YOUR DESIRED VALUES\n",
        "# Please feel free to play with these hyperparameters to see the effects on the\n",
        "# quality of generated names and perplexity\n",
        "\n",
        "MAX_NAME_LENGTH = None # maximum length of name for generation\n",
        "\n",
        "# Remember to fix seed as 42\n",
        "torch.manual_seed(42)\n",
        "\n",
        "# check if GPU is available\n",
        "USE_CUDA = torch.cuda.is_available()\n",
        "print(f\"GPU is available: {USE_CUDA}\")\n",
        "\n",
        "N_GRAM_LENGTH = 5 # The length of the n-gram (N_GRAM_LENGTH=3 for trigram)\n",
        "EMB_SIZE = None # The size of the embedding\n",
        "HID_SIZE = None # The size of the hidden layer\n",
        "EPOCHS = None\n",
        "BATCH_SIZE = None\n",
        "SHUFFLE = None # if dataset should be shuffled"
      ]
    },
    {
      "cell_type": "code",
      "execution_count": null,
      "metadata": {
        "id": "AtObQOzcCXz9"
      },
      "outputs": [],
      "source": [
        "## Please do not change anything in this code block.\n",
        "\n",
        "# Get data iterator and build vocabulary from input text\n",
        "train_text, vocab = get_tokenised_text_and_vocab(ds_type='train')\n",
        "validation_text, _ = get_tokenised_text_and_vocab(ds_type='valid', vocab=vocab)\n",
        "\n",
        "# Check the size of vocabulary\n",
        "vocab_size = len(vocab.get_stoi())\n",
        "print(vocab_size)\n",
        "\n",
        "# Load training and validation dataloaders\n",
        "train_dataloader = get_dataloader(train_text, vocab, ngram = N_GRAM_LENGTH, batch_size=BATCH_SIZE, shuffle=SHUFFLE)\n",
        "valid_dataloader = get_dataloader(validation_text, vocab, ngram = N_GRAM_LENGTH, batch_size=BATCH_SIZE, shuffle=SHUFFLE)"
      ]
    },
    {
      "cell_type": "code",
      "execution_count": null,
      "metadata": {
        "id": "VS8eky0_hVnx"
      },
      "outputs": [],
      "source": [
        "# ADD YOUR CODE HERE\n",
        "\n",
        "# This is the part where you should train your FNN_LM model\n",
        "\n",
        "# CHANGE THE None VALUES TO YOUR DESIRED VALUES\n",
        "\n",
        "# Initialise the model, optimizer, learning rate scheduler (optional), and loss criteria\n",
        "model = FNN_LM(vocab_size=vocab_size, emb_size=EMB_SIZE, hid_size=HID_SIZE, ngram=N_GRAM_LENGTH)\n",
        "# Move the model to GPU if available\n",
        "if USE_CUDA:\n",
        "  model = model.cuda()\n",
        "\n",
        "\n",
        "optimizer = None\n",
        "criterion = None\n",
        "\n",
        "# ADD YOUR CODE HERE\n",
        "# change the directory name with your SAPname and SRno\n",
        "\n",
        "model_dir = 'SAPname_SRno/fnn'\n",
        "\n",
        "if not os.path.exists(model_dir):\n",
        "    os.makedirs(model_dir)\n",
        "\n",
        "# NOTE: if you are **optionally** using additional options for the trainer\n",
        "# (e.g., a training scheduler), please add them below.\n",
        "trainer = NeuralNGramTrainer(\n",
        "        ngram=N_GRAM_LENGTH,\n",
        "        model=model,\n",
        "        optimizer=optimizer,\n",
        "        criterion=criterion,\n",
        "        train_dataloader=train_dataloader,\n",
        "        valid_dataloader=valid_dataloader,\n",
        "        epochs=EPOCHS,\n",
        "        use_cuda=USE_CUDA,\n",
        "        model_dir=model_dir,\n",
        "        vocab=vocab)\n",
        "\n",
        "# Train the model\n",
        "trainer.train()\n",
        "print(\"Training finished.\")\n",
        "\n",
        "trainer.save_model()\n",
        "trainer.save_loss()\n",
        "vocab_path = os.path.join(model_dir, \"vocab.pt\")\n",
        "torch.save(vocab, vocab_path)\n",
        "print(\"Model artifacts saved to folder:\", model_dir)"
      ]
    },
    {
      "cell_type": "markdown",
      "metadata": {
        "id": "j0APUqz7Nj81"
      },
      "source": [
        "### Eval"
      ]
    },
    {
      "cell_type": "code",
      "source": [
        "eval_ngram_model(trainer, ngram=N_GRAM_LENGTH, ds=validation_text, ds_name='valid', eval_prefixes=eval_prefixes, eval_sequences=eval_sequences, num_names=5, is_neural=True)"
      ],
      "metadata": {
        "id": "BZNU7a17LXUq"
      },
      "execution_count": null,
      "outputs": []
    },
    {
      "cell_type": "markdown",
      "source": [
        "Load your saved model and generate a few names"
      ],
      "metadata": {
        "id": "c_7sBsq2S73m"
      }
    },
    {
      "cell_type": "code",
      "execution_count": null,
      "metadata": {
        "id": "yQqORG-xXSPz"
      },
      "outputs": [],
      "source": [
        "START = \"<s>\"   # Start-of-name token\n",
        "END = \"</s>\"    # End-of-name token\n",
        "UNK = \"<unk>\"   # token representing out of unknown (or out of vocabulary) tokens\n",
        "\n",
        "# ADD YOUR CODE HERE\n",
        "# change the directory name with your SAPname and SRno\n",
        "\n",
        "folder = 'SAPname_SRno/fnn'\n",
        "device = torch.device(\"cuda\" if torch.cuda.is_available() else \"cpu\")\n",
        "\n",
        "# load the saved model\n",
        "model = torch.load(f\"{folder}/model.pt\", map_location=device)\n",
        "vocab = torch.load(f\"{folder}/vocab.pt\")\n",
        "\n",
        "# NOTE: if you are **optionally** using additional options for the trainer\n",
        "# (e.g., a training scheduler), please add them below.\n",
        "trainer = NeuralNGramTrainer(\n",
        "        ngram=N_GRAM_LENGTH,\n",
        "        model=model,\n",
        "        optimizer=None,\n",
        "        criterion=None,\n",
        "        train_dataloader=None,\n",
        "        valid_dataloader=None,\n",
        "        epochs=None,\n",
        "        use_cuda=USE_CUDA,\n",
        "        model_dir=None,\n",
        "        vocab=vocab)\n",
        "\n",
        "# Generate a few names\n",
        "names = trainer.generate_names(k=5, n=MAX_NAME_LENGTH, prefix=['a','a','s','h'])\n",
        "print(\", \".join(names))\n",
        "\n",
        "# you may use this block to test if your model and vocab load properly,\n",
        "# and that your functions are able to generate sentences, calculate perplexity etc."
      ]
    },
    {
      "cell_type": "code",
      "source": [
        "# Release models we don't need any more.\n",
        "del trainer\n",
        "del model"
      ],
      "metadata": {
        "id": "yKmRzACIc9t6"
      },
      "execution_count": null,
      "outputs": []
    },
    {
      "cell_type": "markdown",
      "source": [
        "## 2.2 Recurrent Neural Networks for Language Modelling"
      ],
      "metadata": {
        "id": "g9ac9hccZPRW"
      }
    },
    {
      "cell_type": "markdown",
      "source": [
        "For this stage of the assignment, you will implement an RNN language model.\n",
        "\n",
        "Some tips:\n",
        "* use dropout\n",
        "* use the same weights for the embedding layer and the pre-softmax layer\n",
        "* train with Adam\n"
      ],
      "metadata": {
        "id": "9mjlDppEdH5v"
      }
    },
    {
      "cell_type": "code",
      "source": [
        "\"\"\"\n",
        "Implemenation of a PyTorch Module that holds the RNN\n",
        "\n",
        "\"\"\"\n",
        "class RNN_LM(nn.Module):\n",
        "\n",
        "    # you may change the input arguments for __init__\n",
        "    def __init__(self):\n",
        "        super(RNN_LM, self).__init__()\n",
        "\n",
        "        # YOUR CODE HERE\n",
        "\n",
        "    def forward(self):\n",
        "\n",
        "        # YOUR CODE HERE\n",
        "\n",
        "        return"
      ],
      "metadata": {
        "id": "sW-hgdruZUbm"
      },
      "execution_count": null,
      "outputs": []
    },
    {
      "cell_type": "code",
      "source": [
        "class RNNTrainer:\n",
        "    \"\"\"\n",
        "    RNNTrainer wraps RNN_LM to handle training and evaluation.\n",
        "\n",
        "    \"\"\"\n",
        "\n",
        "    # NOTE: you are free to add additional inputs/functions\n",
        "    # to RNNTrainer to make training better\n",
        "    # make sure to define and add it within the input\n",
        "    # and initialization if you are using any additional inputs\n",
        "    # for usage in the function\n",
        "\n",
        "    def __init__(\n",
        "        self,\n",
        "        model,\n",
        "        optimizer,\n",
        "        criterion,\n",
        "        train_dataloader,\n",
        "        valid_dataloader,\n",
        "        epochs,\n",
        "        use_cuda,\n",
        "        vocab,\n",
        "        model_dir\n",
        "    ):\n",
        "\n",
        "        self.model = model\n",
        "        self.epochs = epochs\n",
        "        self.optimizer = optimizer\n",
        "        self.criterion = criterion\n",
        "        self.train_dataloader = train_dataloader\n",
        "        self.valid_dataloader = valid_dataloader\n",
        "        self.use_cuda = use_cuda\n",
        "        self.model_dir = model_dir\n",
        "        self.loss = {\"train\": [], \"val\": []}\n",
        "        self.vocab = vocab\n",
        "\n",
        "        # Move the model to GPU if available\n",
        "        if self.use_cuda:\n",
        "            self.model = self.model.cuda()\n",
        "\n",
        "    def train(self):\n",
        "        \"\"\"\n",
        "        Trains the model with train_dataloader and validates using valid_dataloader\n",
        "\n",
        "        \"\"\"\n",
        "        # You may change the input arguments to this function,\n",
        "        # but make sure to also change the code wherever this function is called\n",
        "\n",
        "        # ADD YOUR CODE HERE FOR TRAINING & VALIDATION\n",
        "\n",
        "\n",
        "    def save_model(self):\n",
        "        \"\"\"\n",
        "        Save final model to directory\n",
        "\n",
        "        \"\"\"\n",
        "\n",
        "        model_path = os.path.join(self.model_dir, \"model.pt\")\n",
        "        torch.save(self.model, model_path)\n",
        "\n",
        "\n",
        "    def save_loss(self):\n",
        "        \"\"\"\n",
        "        Save train/val loss as json file to the directory\n",
        "\n",
        "        \"\"\"\n",
        "\n",
        "        loss_path = os.path.join(self.model_dir, \"loss.json\")\n",
        "        with open(loss_path, \"w\") as fp:\n",
        "            json.dump(self.loss, fp)\n",
        "\n",
        "\n",
        "    def get_next_char_probabilities(self):\n",
        "        \"\"\"\n",
        "        Return a dictionary of probabilities for each char in the vocabulary\n",
        "        with a default starting sequence of [START]\n",
        "\n",
        "        Returns:\n",
        "            dictionary with key: char, value: probability\n",
        "\n",
        "        \"\"\"\n",
        "\n",
        "        # ADD YOUR CODE HERE\n",
        "\n",
        "        return next_char_probabilities\n",
        "\n",
        "\n",
        "    def generate_names(self, k, n, prefix=None):\n",
        "        \"\"\"\n",
        "        Given a prefix, generate k names according to the model.\n",
        "        The default prefix is None.\n",
        "\n",
        "        Args:\n",
        "            k [int]: Number of names to generate\n",
        "            n [int]: Maximum length (number of tokens) in the generated name\n",
        "            prefix [list of tokens]: Prefix after which the names have to be generated\n",
        "\n",
        "        Returns:\n",
        "            list of generated names [list[str]]\n",
        "        \"\"\"\n",
        "\n",
        "        # ADD YOUR CODE HERE\n",
        "\n",
        "        # don't forget self.model.eval()\n",
        "\n",
        "        return names\n",
        "\n",
        "\n",
        "    def get_perplexity(self, text):\n",
        "        \"\"\"\n",
        "        Returns the perplexity of the model on text as a float.\n",
        "\n",
        "        Args:\n",
        "            text [list[list[str]]]: list of tokenised names\n",
        "            > Example:\n",
        "            [['<s>', 'a', 'a', 'b', 'i', 'd', '</s>'],\n",
        "            ['<s>', 'a', 'a', 'b', 'i', 'd', 'a', '</s>']]\n",
        "\n",
        "        Returns:\n",
        "            perplexity [float]\n",
        "\n",
        "        \"\"\"\n",
        "\n",
        "        # ADD YOUR CODE HERE\n",
        "\n",
        "        # you may want to use the dataloader here\n",
        "        # don't forget self.model.eval()\n",
        "\n",
        "        return perplexity\n",
        "\n",
        "\n",
        "    def get_most_likely_chars(self, sequence, k):\n",
        "        \"\"\"\n",
        "        Given a sequence of characters, outputs k most likely characters after the sequence.\n",
        "\n",
        "        Args:\n",
        "            sequence [list[str]]: list of characters\n",
        "            k [int]: number of most likely characters to return\n",
        "\n",
        "        Returns:\n",
        "            chars [list[str]]: *Ordered* list of most likely characters\n",
        "                        (with charcater at index 0 being the most likely and\n",
        "                        character at index k-1 being the least likely)\n",
        "\n",
        "        \"\"\"\n",
        "\n",
        "        # ADD YOUR CODE HERE\n",
        "\n",
        "        # don't forget self.model.eval()\n",
        "\n",
        "        return most_likely_chars"
      ],
      "metadata": {
        "id": "6J-IkqyGZUZP"
      },
      "execution_count": null,
      "outputs": []
    },
    {
      "cell_type": "code",
      "execution_count": null,
      "metadata": {
        "colab": {
          "base_uri": "https://localhost:8080/"
        },
        "outputId": "20ddaf27-5196-4d6b-b61e-784c8d08d3f4",
        "id": "QI_ePpV_b-vC"
      },
      "outputs": [
        {
          "output_type": "stream",
          "name": "stdout",
          "text": [
            "GPU is available: False\n",
            "131\n"
          ]
        }
      ],
      "source": [
        "\"\"\"choose your hyperparameter and see the difference in performance\"\"\"\n",
        "\n",
        "# ADD YOUR CODE HERE\n",
        "\n",
        "# CHANGE THE None VALUES TO YOUR DESIRED VALUES\n",
        "# Please feel free to play with these hyperparameters to see the effects on the\n",
        "# quality of generated names and perplexity\n",
        "\n",
        "MAX_NAME_LENGTH = None # maximum length of name for generation\n",
        "\n",
        "# Remember to fix seed as 42\n",
        "torch.manual_seed(42)\n",
        "\n",
        "# check if GPU is available\n",
        "USE_CUDA = torch.cuda.is_available()\n",
        "print(f\"GPU is available: {USE_CUDA}\")\n",
        "\n",
        "EPOCHS = None\n",
        "BATCH_SIZE = None\n",
        "SHUFFLE = None # if dataset should be shuffled\n",
        "\n",
        "# Get data iterator and build vocabulary from input text\n",
        "train_text, vocab = get_tokenised_text_and_vocab(ds_type='train')\n",
        "validation_text, _ = get_tokenised_text_and_vocab(ds_type='valid', vocab=vocab)\n",
        "\n",
        "# Check the size of vocabulary\n",
        "vocab_size = len(vocab.get_stoi())\n",
        "print(vocab_size)\n",
        "\n",
        "# create the dataloaders for training and validation\n",
        "\n",
        "# ADD YOUR CODE HERE\n",
        "\n",
        "train_dataloader = None\n",
        "valid_dataloader = None"
      ]
    },
    {
      "cell_type": "code",
      "execution_count": null,
      "metadata": {
        "colab": {
          "base_uri": "https://localhost:8080/"
        },
        "outputId": "a5b0428c-1f6f-4d15-906c-a0235ff215b1",
        "id": "V_8F2e4Rb-vE"
      },
      "outputs": [
        {
          "output_type": "stream",
          "name": "stdout",
          "text": [
            "Training finished.\n",
            "Model artifacts saved to folder: SAPname_SRno\n"
          ]
        }
      ],
      "source": [
        "# ADD YOUR CODE HERE\n",
        "\n",
        "# CHANGE THE None VALUES TO YOUR DESIRED VALUES\n",
        "\n",
        "# Initialize the model\n",
        "# you may want to pass arguments to RNN_LM based on your implementation\n",
        "model = RNN_LM()\n",
        "# Move the model to GPU if available\n",
        "if USE_CUDA:\n",
        "  model = model.cuda()\n",
        "\n",
        "# Initialise the optimizer, learning rate scheduler (optional), and loss criteria\n",
        "optimizer = None\n",
        "criterion = None\n",
        "\n",
        "# ADD YOUR CODE HERE\n",
        "# change the directory name with your SAPname and SRno\n",
        "\n",
        "model_dir = 'SAPname_SRno/rnn'\n",
        "\n",
        "if not os.path.exists(model_dir):\n",
        "    os.makedirs(model_dir)\n",
        "\n",
        "# NOTE: if you are **optionally** using additional options for the trainer\n",
        "# (e.g., a training scheduler), please add them below.\n",
        "trainer = RNNTrainer(\n",
        "        model=model,\n",
        "        optimizer=optimizer,\n",
        "        criterion=criterion,\n",
        "        train_dataloader=train_dataloader,\n",
        "        valid_dataloader=valid_dataloader,\n",
        "        epochs=EPOCHS,\n",
        "        use_cuda=USE_CUDA,\n",
        "        vocab=vocab,\n",
        "        model_dir=model_dir\n",
        "        )\n",
        "\n",
        "# Train the model\n",
        "trainer.train()\n",
        "print(\"Training finished.\")\n",
        "\n",
        "trainer.save_model()\n",
        "trainer.save_loss()\n",
        "vocab_path = os.path.join(model_dir, \"vocab.pt\")\n",
        "torch.save(vocab, vocab_path)\n",
        "print(\"Model artifacts saved to folder:\", model_dir)"
      ]
    },
    {
      "cell_type": "markdown",
      "source": [
        "### Eval"
      ],
      "metadata": {
        "id": "Z1BDYq3OeMbc"
      }
    },
    {
      "cell_type": "code",
      "source": [
        "## Please do not change anything in this code block.\n",
        "\n",
        "def eval_rnn_model(model, ds, ds_name, eval_prefixes, eval_sequences, num_names=5):\n",
        "    \"\"\"\n",
        "    Runs the following evaluations on n-gram models:\n",
        "    (1) checks if probability distribution returned by model.get_next_char_probabilities() sums to one\n",
        "    (2) checks the perplexity of the model\n",
        "    (3) generates names using model.generate_names()\n",
        "    (4) generates names given a prefix using model.generate_names()\n",
        "    (4) output most likely characters after a given sequence of chars using model.get_most_likely_chars()\n",
        "    \"\"\"\n",
        "\n",
        "    # (1) checks if probability distributions sum to one\n",
        "    is_valid = check_validity(model, 1, True)\n",
        "    print(f'EVALUATION probability distribution is valid: {is_valid}')\n",
        "\n",
        "    # (2) evaluate the perplexity of the model on the dataset\n",
        "    print(f'EVALUATION of RNN on {ds_name} perplexity:',\n",
        "        model.get_perplexity(ds))\n",
        "\n",
        "    # (3) generate a few names\n",
        "    generated_names = \", \".join(model.generate_names(k=num_names, n=MAX_NAME_LENGTH))\n",
        "    print(f'EVALUATION RNN generated names are {generated_names}')\n",
        "\n",
        "    # (4) generate a few names given a prefix\n",
        "    for prefix in eval_prefixes:\n",
        "        generated_names_with_prefix = \", \".join(model.generate_names(k=num_names, n=MAX_NAME_LENGTH, prefix=prefix))\n",
        "        prefix = ''.join(prefix)\n",
        "        print(f'EVALUATION RNN generated names with prefix {prefix} are {generated_names_with_prefix}')\n",
        "\n",
        "    # (5) get most likely characters after a sequence\n",
        "    for sequence in eval_sequences:\n",
        "        most_likely_chars = \", \".join(model.get_most_likely_chars(sequence=sequence, k=num_names))\n",
        "        sequence = \"\".join(sequence)\n",
        "        print(f\"EVALUATION RNN the top most likely chars after {sequence} are {most_likely_chars}\")"
      ],
      "metadata": {
        "id": "wNGBYVYRtz4H"
      },
      "execution_count": null,
      "outputs": []
    },
    {
      "cell_type": "code",
      "source": [
        "eval_rnn_model(trainer, ds=validation_text, ds_name='valid', eval_prefixes=eval_prefixes, eval_sequences=eval_sequences, num_names=5)"
      ],
      "metadata": {
        "id": "GZD3LMk5eJmt"
      },
      "execution_count": null,
      "outputs": []
    },
    {
      "cell_type": "code",
      "source": [
        "START = \"<s>\"   # Start-of-name token\n",
        "END = \"</s>\"    # End-of-name token\n",
        "UNK = \"<unk>\"   # token representing out of unknown (or out of vocabulary) tokens\n",
        "\n",
        "# ADD YOUR CODE HERE\n",
        "# change the directory name with your SAPname and SRno\n",
        "\n",
        "folder = 'SAPname_SRno/rnn'\n",
        "device = torch.device(\"cuda\" if torch.cuda.is_available() else \"cpu\")\n",
        "\n",
        "# load the saved model\n",
        "model = torch.load(f\"{folder}/model.pt\", map_location=device)\n",
        "vocab = torch.load(f\"{folder}/vocab.pt\")\n",
        "\n",
        "# NOTE: if you are **optionally** using additional options for the trainer\n",
        "# (e.g., a training scheduler), please add them below.\n",
        "trainer = RNNTrainer(\n",
        "        model=model,\n",
        "        optimizer=None,\n",
        "        criterion=None,\n",
        "        train_dataloader=None,\n",
        "        valid_dataloader=None,\n",
        "        epochs=None,\n",
        "        use_cuda=USE_CUDA,\n",
        "        model_dir=None,\n",
        "        vocab=vocab)\n",
        "\n",
        "# Generate a few names\n",
        "names = trainer.generate_names(k=5, n=MAX_NAME_LENGTH, prefix=['a','a','s','h'])\n",
        "print(\", \".join(names))\n",
        "\n",
        "# you may use this block to test if your model and vocab load properly,\n",
        "# and that your functions are able to generate sentences, calculate perplexity etc."
      ],
      "metadata": {
        "id": "TMvL3KPfb-eO"
      },
      "execution_count": null,
      "outputs": []
    },
    {
      "cell_type": "code",
      "source": [
        "# Release models we don't need any more.\n",
        "del trainer\n",
        "del model"
      ],
      "metadata": {
        "id": "uoPkwUKs3_vy"
      },
      "execution_count": null,
      "outputs": []
    },
    {
      "cell_type": "markdown",
      "source": [
        "# Congratulations!\n",
        "\n",
        "You've reacehd the end of the assignment. Hope this was a pleasant and fun exercise!\n",
        "\n",
        "Check the submission instructions mentioned at the begining of the notebook in order to submit your homework.\n"
      ],
      "metadata": {
        "id": "2pn7Mxs_5Nj0"
      }
    },
    {
      "cell_type": "code",
      "source": [],
      "metadata": {
        "id": "jYCueoDD-KEO"
      },
      "execution_count": null,
      "outputs": []
    }
  ],
  "metadata": {
    "colab": {
      "provenance": [],
      "toc_visible": true,
      "include_colab_link": true
    },
    "kernelspec": {
      "display_name": "Python 3",
      "name": "python3"
    },
    "language_info": {
      "name": "python"
    }
  },
  "nbformat": 4,
  "nbformat_minor": 0
}